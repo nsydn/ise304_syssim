{
 "cells": [
  {
   "cell_type": "markdown",
   "id": "ed301853",
   "metadata": {},
   "source": [
    "## Input analysis example: Highway cellular network"
   ]
  },
  {
   "cell_type": "markdown",
   "id": "c9270039",
   "metadata": {},
   "source": [
    "### Problem statement\n",
    "The telecommunication company XPhone has been receiving complaints from its subscribers regarding quality of service (QoS) along a 40 km long highway connecting two major cities. The highway is covered by its cellular telephony network. The company needs to decide whether or not its system guarantees quality of service (QoS) in terms of percentages of dropped calls and blocked calls. Some measurements have been made of the traffic in the network on the highway. Your task is to model and simulate the system to determine whether the system can meet the quality of service requirements, and if so, which fixed channel allocation scheme offers the best service.\n",
    "### Quality of Service (QoS) Requirements\n",
    "- Blocked calls < 2%, and\n",
    "- Dropped calls < 1%\n",
    "\n",
    "### System Description\n",
    "The two-way highway is 40 km long. The company uses 20 base stations, each covers a cell with 2 km diameter as shown in the figure below. There is no overlapping of cells. Where the reach of one base station ends, the reach of the next base station starts. Each base station has 10 channels so there are 10 channels available in each cell.\n",
    "\n",
    "When a subscriber initiates a call from within a cell, a channel in the cell will be allocated to the call. If no free channels are available in the base station, the call is blocked. When a subscriber making a call crosses a cell boundary before the end of the 40-km highway, the channel being used in the current cell is released and a new channel in the new cell has to be acquired: this is called a Handover. If a channel is not available in the new base station during a handover the call is dropped. When a subscriber making a call crosses the end of the 40-km highway (either end), the call will be terminated and the channel being used is released.\n",
    "\n",
    "A Fixed Channel Allocation (FCA) scheme is used. The company wants you to test at least two FCA schemes:\n",
    "\n",
    "<ol>\n",
    "  <li>No channel reservation.</li>\n",
    "  <li>9 channels are allocated to each cell for new calls and handovers and 1 channel is reserved for handovers when the other 9 channels are not available. This means a new call will not be allocated a channel if there is only one free channel left.</li>\n",
    "</ol>\n",
    "\n",
    "The company has provided the following measurements:\n",
    "\n",
    "- Call initiation times and their first base stations\n",
    "- Call durations\n",
    "- Car speeds.\n",
    "\n",
    "**Assumptions and simplifications**\n",
    "\n",
    "The traffic volumes in the two directions are the same. This means the two directions of cars travelling along the highway have equal probabilities.\n",
    "A car maintains the same speed during a call.\n",
    "The position of the car initiating a call in a cell is uniformly distributed along the section of the highway covered by the base station.\n",
    "### Task\n",
    "Analyze the measured data to find what distributions the inter-arrival times of calls, the locations where calls are generated, the call durations, and car speeds follow respectively. You also need to find the parameter values of these distributions. The measured data are provided in `input.xlsx`."
   ]
  },
  {
   "cell_type": "code",
   "execution_count": 6,
   "id": "f330eb00",
   "metadata": {},
   "outputs": [],
   "source": [
    "import matplotlib.pyplot as plt\n",
    "from scipy.stats import expon, norm\n",
    "import numpy as np\n",
    "import pandas as pd\n",
    "from scipy import stats"
   ]
  },
  {
   "cell_type": "code",
   "execution_count": 7,
   "id": "355cbdf8",
   "metadata": {
    "scrolled": true
   },
   "outputs": [
    {
     "data": {
      "text/html": [
       "<div>\n",
       "<style scoped>\n",
       "    .dataframe tbody tr th:only-of-type {\n",
       "        vertical-align: middle;\n",
       "    }\n",
       "\n",
       "    .dataframe tbody tr th {\n",
       "        vertical-align: top;\n",
       "    }\n",
       "\n",
       "    .dataframe thead th {\n",
       "        text-align: right;\n",
       "    }\n",
       "</style>\n",
       "<table border=\"1\" class=\"dataframe\">\n",
       "  <thead>\n",
       "    <tr style=\"text-align: right;\">\n",
       "      <th></th>\n",
       "      <th>Arrival no</th>\n",
       "      <th>Arrival time (sec)</th>\n",
       "      <th>Base station</th>\n",
       "      <th>Call duration (sec)</th>\n",
       "      <th>velocity (km/h)</th>\n",
       "    </tr>\n",
       "  </thead>\n",
       "  <tbody>\n",
       "    <tr>\n",
       "      <th>0</th>\n",
       "      <td>1</td>\n",
       "      <td>0.000000</td>\n",
       "      <td>18</td>\n",
       "      <td>76.133611</td>\n",
       "      <td>125.934254</td>\n",
       "    </tr>\n",
       "    <tr>\n",
       "      <th>1</th>\n",
       "      <td>2</td>\n",
       "      <td>0.067744</td>\n",
       "      <td>7</td>\n",
       "      <td>159.056244</td>\n",
       "      <td>95.510881</td>\n",
       "    </tr>\n",
       "    <tr>\n",
       "      <th>2</th>\n",
       "      <td>3</td>\n",
       "      <td>0.559184</td>\n",
       "      <td>6</td>\n",
       "      <td>179.465053</td>\n",
       "      <td>127.757456</td>\n",
       "    </tr>\n",
       "    <tr>\n",
       "      <th>3</th>\n",
       "      <td>4</td>\n",
       "      <td>0.625319</td>\n",
       "      <td>14</td>\n",
       "      <td>163.108320</td>\n",
       "      <td>134.310552</td>\n",
       "    </tr>\n",
       "    <tr>\n",
       "      <th>4</th>\n",
       "      <td>5</td>\n",
       "      <td>1.345066</td>\n",
       "      <td>2</td>\n",
       "      <td>95.054472</td>\n",
       "      <td>112.272359</td>\n",
       "    </tr>\n",
       "  </tbody>\n",
       "</table>\n",
       "</div>"
      ],
      "text/plain": [
       "   Arrival no  Arrival time (sec)  Base station   Call duration (sec)  \\\n",
       "0           1            0.000000             18            76.133611   \n",
       "1           2            0.067744              7           159.056244   \n",
       "2           3            0.559184              6           179.465053   \n",
       "3           4            0.625319             14           163.108320   \n",
       "4           5            1.345066              2            95.054472   \n",
       "\n",
       "   velocity (km/h)  \n",
       "0       125.934254  \n",
       "1        95.510881  \n",
       "2       127.757456  \n",
       "3       134.310552  \n",
       "4       112.272359  "
      ]
     },
     "execution_count": 7,
     "metadata": {},
     "output_type": "execute_result"
    }
   ],
   "source": [
    "data = pd.read_excel('input.xlsx')\n",
    "data.head()"
   ]
  },
  {
   "cell_type": "code",
   "execution_count": 312,
   "id": "98904b0d",
   "metadata": {},
   "outputs": [
    {
     "data": {
      "text/plain": [
       "(10000, 5)"
      ]
     },
     "execution_count": 312,
     "metadata": {},
     "output_type": "execute_result"
    }
   ],
   "source": [
    "data.shape"
   ]
  },
  {
   "cell_type": "markdown",
   "id": "cf245ffc",
   "metadata": {},
   "source": [
    "### 1) Inter-arrival times"
   ]
  },
  {
   "cell_type": "code",
   "execution_count": 8,
   "id": "58166e7a",
   "metadata": {},
   "outputs": [],
   "source": [
    "arrival_time = data['Arrival time (sec)']\n",
    "interarrival_time = arrival_time.diff().dropna()"
   ]
  },
  {
   "cell_type": "code",
   "execution_count": 329,
   "id": "ed7bc5b3",
   "metadata": {
    "scrolled": true
   },
   "outputs": [
    {
     "data": {
      "text/plain": [
       "count    9999.000000\n",
       "mean        1.369817\n",
       "std         1.343922\n",
       "min         0.000025\n",
       "25%         0.407874\n",
       "50%         0.961708\n",
       "75%         1.891807\n",
       "max        12.498550\n",
       "Name: Arrival time (sec), dtype: float64"
      ]
     },
     "execution_count": 329,
     "metadata": {},
     "output_type": "execute_result"
    }
   ],
   "source": [
    "#look at descriptive stats\n",
    "interarrival_time.describe()"
   ]
  },
  {
   "cell_type": "code",
   "execution_count": 95,
   "id": "06a108b1",
   "metadata": {},
   "outputs": [
    {
     "name": "stdout",
     "output_type": "stream",
     "text": [
      "Biased std: 1.343855\n",
      "Unbiased std: 1.343922\n"
     ]
    }
   ],
   "source": [
    "#compare biased / unbiased estimators of std\n",
    "print('Biased std: %.6f' % interarrival_time.std(ddof=0))\n",
    "print('Unbiased std: %.6f' % interarrival_time.std(ddof=1))"
   ]
  },
  {
   "cell_type": "markdown",
   "id": "374521df",
   "metadata": {},
   "source": [
    "#### Probability distribution\n",
    "##### Histogram & kernel density\n",
    "Plot histogram and try to fit kernel density (smooth line) to detect any bi-modality or another pattern, and to identify potential distributions."
   ]
  },
  {
   "cell_type": "code",
   "execution_count": 324,
   "id": "64b89d2b",
   "metadata": {
    "scrolled": true
   },
   "outputs": [
    {
     "data": {
      "text/plain": [
       "[<matplotlib.lines.Line2D at 0x1d8d4c81ca0>]"
      ]
     },
     "execution_count": 324,
     "metadata": {},
     "output_type": "execute_result"
    },
    {
     "data": {
      "image/png": "[encoded data removed]",
      "text/plain": [
       "<Figure size 432x288 with 1 Axes>"
      ]
     },
     "metadata": {
      "needs_background": "light"
     },
     "output_type": "display_data"
    }
   ],
   "source": [
    "# fit a kernel\n",
    "import statsmodels.api as sm\n",
    "kde = sm.nonparametric.KDEUnivariate(interarrival_time)\n",
    "kde.fit()\n",
    "plt.plot(kde.support, kde.density, label=\"KDE from samples\")"
   ]
  },
  {
   "cell_type": "code",
   "execution_count": 323,
   "id": "72e82a68",
   "metadata": {},
   "outputs": [
    {
     "data": {
      "text/plain": [
       "<AxesSubplot:xlabel='Arrival time (sec)', ylabel='Density'>"
      ]
     },
     "execution_count": 323,
     "metadata": {},
     "output_type": "execute_result"
    },
    {
     "data": {
      "image/png": "[encoded data removed]",
      "text/plain": [
       "<Figure size 432x288 with 1 Axes>"
      ]
     },
     "metadata": {
      "needs_background": "light"
     },
     "output_type": "display_data"
    }
   ],
   "source": [
    "# fit a kernel\n",
    "import seaborn as sns\n",
    "sns.kdeplot(interarrival_time)"
   ]
  },
  {
   "cell_type": "code",
   "execution_count": 328,
   "id": "2305dcf1",
   "metadata": {},
   "outputs": [
    {
     "data": {
      "image/png": "[encoded data removed]",
      "text/plain": [
       "<Figure size 432x288 with 1 Axes>"
      ]
     },
     "metadata": {
      "needs_background": "light"
     },
     "output_type": "display_data"
    }
   ],
   "source": [
    "# draw hist\n",
    "plt.hist(interarrival_time,100)\n",
    "plt.show()"
   ]
  },
  {
   "cell_type": "code",
   "execution_count": 325,
   "id": "258e7044",
   "metadata": {
    "scrolled": true
   },
   "outputs": [
    {
     "data": {
      "image/png": "[encoded data removed]",
      "text/plain": [
       "<Figure size 432x288 with 1 Axes>"
      ]
     },
     "metadata": {
      "needs_background": "light"
     },
     "output_type": "display_data"
    }
   ],
   "source": [
    "# draw hist and fit a kernel\n",
    "import seaborn as sns\n",
    "sns.histplot(interarrival_time, label='Inter Arrival Time',kde=True,stat=\"density\",alpha=0.2)\n",
    "#sns.distplot(interarrival_time, label='Inter Arrival Time',kde=True,hist=True)\n",
    "plt.show()"
   ]
  },
  {
   "cell_type": "markdown",
   "id": "d0eb2e93",
   "metadata": {},
   "source": [
    "Get help from ACF and PACF graphs to reveal any auto-correlation structure in your data."
   ]
  },
  {
   "cell_type": "code",
   "execution_count": 240,
   "id": "d64e9dec",
   "metadata": {
    "scrolled": false
   },
   "outputs": [
    {
     "data": {
      "image/png": "[encoded data removed]",
      "text/plain": [
       "<Figure size 432x288 with 1 Axes>"
      ]
     },
     "metadata": {
      "needs_background": "light"
     },
     "output_type": "display_data"
    },
    {
     "data": {
      "image/png": "[encoded data removed]",
      "text/plain": [
       "<Figure size 432x288 with 1 Axes>"
      ]
     },
     "metadata": {
      "needs_background": "light"
     },
     "output_type": "display_data"
    }
   ],
   "source": [
    "from statsmodels.graphics.tsaplots import plot_acf, plot_pacf\n",
    "plot_acf(interarrival_time); \n",
    "plot_pacf(interarrival_time);"
   ]
  },
  {
   "cell_type": "markdown",
   "id": "f672a4d3",
   "metadata": {},
   "source": [
    "##### Selecting distribution and comparing quantiles\n",
    "Try Q-Q plots on a number of alternatives to select a distribution family (or a number of potential candidates). Always refer to [scipy.stats](https://docs.scipy.org/doc/scipy/reference/stats.html#module-scipy.stats) documentation to get to know what input parameters need to provided for each distribution."
   ]
  },
  {
   "cell_type": "code",
   "execution_count": 12,
   "id": "f3e02dec",
   "metadata": {
    "scrolled": false
   },
   "outputs": [
    {
     "data": {
      "image/png": "[encoded data removed]",
      "text/plain": [
       "<Figure size 432x288 with 1 Axes>"
      ]
     },
     "metadata": {
      "needs_background": "light"
     },
     "output_type": "display_data"
    }
   ],
   "source": [
    "#draw a q-q plot againts various distributions\n",
    "fig = plt.figure()\n",
    "ax = fig.add_subplot(111)\n",
    "#stats.probplot(interarrival_time, dist=stats.norm,sparams=(1,2),plot=ax)\n",
    "#stats.probplot(interarrival_time, dist=stats.expon,plot=ax)\n",
    "#stats.probplot(interarrival_time, dist=stats.gamma,sparams=(1,),plot=ax)\n",
    "stats.probplot(interarrival_time, dist=stats.beta, sparams=(1,60),plot=ax)\n",
    "plt.show()\n",
    "#1.0075580035477385,50.91118687221094,2.395382549338611e-05,70.59205633029417"
   ]
  },
  {
   "cell_type": "markdown",
   "id": "b394a9c0",
   "metadata": {},
   "source": [
    "There is in fact an automated way of searching for an appropriate distribution and estimating its parameters (see `distfit()` below). The most suitable distribution is selected as Beta distribution."
   ]
  },
  {
   "cell_type": "markdown",
   "id": "353aa9ad",
   "metadata": {},
   "source": [
    "#### Goodness-of-fit\n",
    "##### K-S test on interarrival times"
   ]
  },
  {
   "cell_type": "code",
   "execution_count": 321,
   "id": "aad7ceec",
   "metadata": {},
   "outputs": [
    {
     "data": {
      "text/plain": [
       "KstestResult(statistic=0.010023150692294924, pvalue=0.2658106043225813)"
      ]
     },
     "execution_count": 321,
     "metadata": {},
     "output_type": "execute_result"
    }
   ],
   "source": [
    "from scipy.stats import kstest\n",
    "kstest(interarrival_time,'beta',\n",
    "       [1.0075580035477385,\n",
    "        50.91118687221094,\n",
    "        2.395382549338611e-05,\n",
    "        70.59205633029417])\n",
    "kstest(interarrival_time,'expon',\n",
    "       [0.0000,1.369817])"
   ]
  },
  {
   "cell_type": "markdown",
   "id": "4ce569c7",
   "metadata": {},
   "source": [
    "#### C-S test on interarrival times\n",
    "Let's choose $k=\\sqrt{n}=100$."
   ]
  },
  {
   "cell_type": "code",
   "execution_count": 277,
   "id": "9bed361e",
   "metadata": {},
   "outputs": [],
   "source": [
    "import math\n",
    "k=100\n",
    "p_j = 1/k\n",
    "# Obtain 100 class intervals\n",
    "iat_interval = [0]\n",
    "iat_mean = interarrival_time.mean()\n",
    "\n",
    "for i in range(1, k):\n",
    "    iat_interval.append(expon.ppf(i*p_j, scale=iat_mean))\n",
    "    \n",
    "iat_interval.append(math.inf)"
   ]
  },
  {
   "cell_type": "code",
   "execution_count": 278,
   "id": "6be51e67",
   "metadata": {},
   "outputs": [
    {
     "name": "stdout",
     "output_type": "stream",
     "text": [
      "Test Statisic: 111.64999999999999\n"
     ]
    }
   ],
   "source": [
    "# Calculate the test statistic\n",
    "n = 10000\n",
    "test_stat = 0\n",
    "for i in range(k):\n",
    "    N_j = len(interarrival_time[(iat_interval[i] <= interarrival_time) & (interarrival_time < iat_interval[i+1])])\n",
    "    test_stat += (N_j - n * p_j) ** 2 / (n * p_j)\n",
    "\n",
    "print(\"Test Statisic:\", test_stat)"
   ]
  },
  {
   "cell_type": "markdown",
   "id": "551777f2",
   "metadata": {},
   "source": [
    "#### Checking for inter-dependence"
   ]
  },
  {
   "cell_type": "markdown",
   "id": "f95e06b0",
   "metadata": {},
   "source": [
    "### 2) Call durations\n",
    "*Repeat the same analysis above for call durations.*"
   ]
  },
  {
   "cell_type": "code",
   "execution_count": 302,
   "id": "fdaa4d9b",
   "metadata": {},
   "outputs": [],
   "source": [
    "call_duration = data['Call duration (sec)']"
   ]
  },
  {
   "cell_type": "markdown",
   "id": "810c4921",
   "metadata": {},
   "source": [
    "### Appendix: Distfit library"
   ]
  },
  {
   "cell_type": "code",
   "execution_count": 11,
   "id": "39909f33",
   "metadata": {
    "scrolled": false
   },
   "outputs": [
    {
     "name": "stdout",
     "output_type": "stream",
     "text": [
      "[distfit] >fit..\n",
      "[distfit] >transform..\n",
      "[distfit] >[norm      ] [0.0 sec] [RSS: 0.4178891] [loc=1.370 scale=1.344]\n",
      "[distfit] >[expon     ] [0.0 sec] [RSS: 0.0026379] [loc=0.000 scale=1.370]\n",
      "[distfit] >[pareto    ] [0.90 sec] [RSS: 0.0088465] [loc=-12416010.545 scale=12416010.546]\n",
      "[distfit] >[dweibull  ] [0.41 sec] [RSS: 0.3313773] [loc=1.102 scale=0.978]\n",
      "[distfit] >[t         ] [0.24 sec] [RSS: 0.2815180] [loc=1.004 scale=0.811]\n",
      "[distfit] >[genextreme] [0.35 sec] [RSS: 0.0733645] [loc=0.643 scale=0.640]\n",
      "[distfit] >[gamma     ] [0.40 sec] [RSS: 0.0032024] [loc=0.000 scale=1.456]\n",
      "[distfit] >[lognorm   ] [0.38 sec] [RSS: 0.0310318] [loc=-0.111 scale=0.998]\n",
      "[distfit] >[beta      ] [0.35 sec] [RSS: 0.0020062] [loc=0.000 scale=70.592]\n",
      "[distfit] >[uniform   ] [0.0 sec] [RSS: 1.1212076] [loc=0.000 scale=12.499]\n",
      "[distfit] >[loggamma  ] [0.49 sec] [RSS: 0.4267621] [loc=-538.282 scale=69.087]\n",
      "[distfit] >Compute confidence interval [parametric]\n"
     ]
    },
    {
     "data": {
      "text/plain": [
       "{'model': {'distr': <scipy.stats._continuous_distns.beta_gen at 0x24dd041d190>,\n",
       "  'stats': 'RSS',\n",
       "  'params': (1.0075580035477385,\n",
       "   50.91118687221094,\n",
       "   2.395382549338611e-05,\n",
       "   70.59205633029417),\n",
       "  'name': 'beta',\n",
       "  'model': <scipy.stats._distn_infrastructure.rv_frozen at 0x24dd31d0e20>,\n",
       "  'score': 0.002006186576842647,\n",
       "  'loc': 2.395382549338611e-05,\n",
       "  'scale': 70.59205633029417,\n",
       "  'arg': (1.0075580035477385, 50.91118687221094),\n",
       "  'CII_min_alpha': 0.07299359822860171,\n",
       "  'CII_max_alpha': 4.052799973917255},\n",
       " 'summary':          distr     score  LLE              loc            scale  \\\n",
       " 0         beta  0.002006  NaN         0.000024        70.592056   \n",
       " 1        expon  0.002638  NaN         0.000025         1.369792   \n",
       " 2        gamma  0.003202  NaN         0.000025         1.455615   \n",
       " 3       pareto  0.008847  NaN -12416010.545494  12416010.545519   \n",
       " 4      lognorm  0.031032  NaN        -0.111492         0.998083   \n",
       " 5   genextreme  0.073365  NaN         0.642732         0.639606   \n",
       " 6            t  0.281518  NaN         1.003759         0.811141   \n",
       " 7     dweibull  0.331377  NaN         1.102466         0.977789   \n",
       " 8         norm  0.417889  NaN         1.369817         1.343855   \n",
       " 9     loggamma  0.426762  NaN      -538.281608        69.086739   \n",
       " 10     uniform  1.121208  NaN         0.000025        12.498525   \n",
       " \n",
       "                                         arg  \n",
       " 0   (1.0075580035477385, 50.91118687221094)  \n",
       " 1                                        ()  \n",
       " 2                     (0.9903569322506334,)  \n",
       " 3                      (8062501.982621449,)  \n",
       " 4                     (0.9365149622809232,)  \n",
       " 5                   (-0.45282884950841873,)  \n",
       " 6                     (2.7049595397378394,)  \n",
       " 7                     (1.0850363209652178,)  \n",
       " 8                                        ()  \n",
       " 9                     (2468.6410295804862,)  \n",
       " 10                                       ()  ,\n",
       " 'histdata': (array([6.41339795e-01, 5.46919214e-01, 4.87306220e-01, 3.71280930e-01,\n",
       "         3.36873430e-01, 2.70859040e-01, 2.41252587e-01, 1.77238633e-01,\n",
       "         1.47232093e-01, 1.26027471e-01, 1.17625639e-01, 9.52207557e-02,\n",
       "         8.28180522e-02, 5.60122092e-02, 4.80104650e-02, 3.96086337e-02,\n",
       "         4.36095057e-02, 2.72059302e-02, 2.20047965e-02, 2.32050581e-02,\n",
       "         1.80039244e-02, 1.76038372e-02, 1.28027907e-02, 7.60165696e-03,\n",
       "         1.00021802e-02, 3.60078488e-03, 7.20156976e-03, 2.00043604e-03,\n",
       "         2.80061046e-03, 4.00087209e-03, 2.80061046e-03, 8.00174417e-04,\n",
       "         8.00174417e-04, 8.00174417e-04, 0.00000000e+00, 1.60034883e-03,\n",
       "         4.00087209e-04, 1.20026163e-03, 0.00000000e+00, 1.20026163e-03,\n",
       "         1.20026163e-03, 8.00174417e-04, 4.00087209e-04, 4.00087209e-04,\n",
       "         4.00087209e-04, 0.00000000e+00, 0.00000000e+00, 0.00000000e+00,\n",
       "         0.00000000e+00, 4.00087209e-04]),\n",
       "  array([ 0.12501034,  0.37498085,  0.62495135,  0.87492185,  1.12489236,\n",
       "          1.37486286,  1.62483336,  1.87480387,  2.12477437,  2.37474487,\n",
       "          2.62471538,  2.87468588,  3.12465638,  3.37462689,  3.62459739,\n",
       "          3.87456789,  4.1245384 ,  4.3745089 ,  4.62447941,  4.87444991,\n",
       "          5.12442041,  5.37439092,  5.62436142,  5.87433192,  6.12430243,\n",
       "          6.37427293,  6.62424343,  6.87421394,  7.12418444,  7.37415494,\n",
       "          7.62412545,  7.87409595,  8.12406645,  8.37403696,  8.62400746,\n",
       "          8.87397797,  9.12394847,  9.37391897,  9.62388948,  9.87385998,\n",
       "         10.12383048, 10.37380099, 10.62377149, 10.87374199, 11.1237125 ,\n",
       "         11.373683  , 11.6236535 , 11.87362401, 12.12359451, 12.37356501])),\n",
       " 'size': 9999,\n",
       " 'alpha': 0.05,\n",
       " 'stats': 'RSS',\n",
       " 'bins': 50,\n",
       " 'bound': 'both',\n",
       " 'distr': 'popular',\n",
       " 'method': 'parametric',\n",
       " 'multtest': 'fdr_bh',\n",
       " 'n_perm': 10000,\n",
       " 'smooth': None,\n",
       " 'weighted': True,\n",
       " 'f': 1.5}"
      ]
     },
     "execution_count": 11,
     "metadata": {},
     "output_type": "execute_result"
    }
   ],
   "source": [
    "#%pip install distfit\n",
    "import numpy as np\n",
    "from distfit import distfit\n",
    "\n",
    "# Generate 10000 normal distribution samples with mean 0, std dev of 3 \n",
    "#X = np.random.normal(0, 3, 10000)\n",
    "#X = norm.rvs(0,3,10000)\n",
    "X = interarrival_time\n",
    "\n",
    "# Initialize distfit\n",
    "dist = distfit()\n",
    "\n",
    "# Determine best-fitting probability distribution for data\n",
    "dist.fit_transform(X)"
   ]
  },
  {
   "cell_type": "code",
   "execution_count": null,
   "id": "904a6875",
   "metadata": {},
   "outputs": [],
   "source": [
    "print(dist.summary)"
   ]
  },
  {
   "cell_type": "code",
   "execution_count": 13,
   "id": "03547be2",
   "metadata": {},
   "outputs": [
    {
     "name": "stdout",
     "output_type": "stream",
     "text": [
      "[distfit] >plot..\n"
     ]
    },
    {
     "data": {
      "text/plain": [
       "(<Figure size 720x576 with 1 Axes>,\n",
       " <AxesSubplot:title={'center':'\\nbeta\\na=1.00756, b=50.9112, loc=2.39538e-05, scale=70.5921'}, xlabel='Values', ylabel='Frequency'>)"
      ]
     },
     "execution_count": 13,
     "metadata": {},
     "output_type": "execute_result"
    },
    {
     "data": {
      "image/png": "[encoded data removed]",
      "text/plain": [
       "<Figure size 720x576 with 1 Axes>"
      ]
     },
     "metadata": {
      "needs_background": "light"
     },
     "output_type": "display_data"
    }
   ],
   "source": [
    "dist.plot()"
   ]
  },
  {
   "cell_type": "markdown",
   "id": "69030201",
   "metadata": {},
   "source": [
    "### Resources\n",
    "- Case adopted from [https://github.com/ritikbhatia](https://github.com/ritikbhatia).\n",
    "- Best fit: [https://www.kdnuggets.com/2021/09/determine-best-fitting-data-distribution-python.html](https://www.kdnuggets.com/2021/09/determine-best-fitting-data-distribution-python.html)"
   ]
  }
 ],
 "metadata": {
  "kernelspec": {
   "display_name": "Python 3",
   "language": "python",
   "name": "python3"
  },
  "language_info": {
   "codemirror_mode": {
    "name": "ipython",
    "version": 3
   },
   "file_extension": ".py",
   "mimetype": "text/x-python",
   "name": "python",
   "nbconvert_exporter": "python",
   "pygments_lexer": "ipython3",
   "version": "3.8.8"
  }
 },
 "nbformat": 4,
 "nbformat_minor": 5
}

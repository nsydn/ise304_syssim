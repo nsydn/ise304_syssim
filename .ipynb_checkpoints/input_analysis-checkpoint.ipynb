{
 "cells": [
  {
   "cell_type": "markdown",
   "id": "ed301853",
   "metadata": {},
   "source": [
    "## Input analysis example: Highway cellular network"
   ]
  },
  {
   "cell_type": "markdown",
   "id": "5614f458",
   "metadata": {},
   "source": [
    "### Problem statement\n",
    "The telecommunication company XPhone has been receiving complaints from its subscribers regarding quality of service (QoS) along a 40 km long highway connecting two major cities. The highway is covered by its cellular telephony network. The company needs to decide whether or not its system guarantees quality of service (QoS) in terms of percentages of dropped calls and blocked calls. Some measurements have been made of the traffic in the network on the highway. Your task is to model and simulate the system to determine whether the system can meet the quality of service requirements, and if so, which fixed channel allocation scheme offers the best service.\n",
    "### Quality of Service (QoS) Requirements\n",
    "- Blocked calls < 2%, and\n",
    "- Dropped calls < 1%\n",
    "\n",
    "### System Description\n",
    "The two-way highway is 40 km long. The company uses 20 base stations, each covers a cell with 2 km diameter as shown in the figure below. There is no overlapping of cells. Where the reach of one base station ends, the reach of the next base station starts. Each base station has 10 channels so there are 10 channels available in each cell.\n",
    "\n",
    "When a subscriber initiates a call from within a cell, a channel in the cell will be allocated to the call. If no free channels are available in the base station, the call is blocked. When a subscriber making a call crosses a cell boundary before the end of the 40-km highway, the channel being used in the current cell is released and a new channel in the new cell has to be acquired: this is called a Handover. If a channel is not available in the new base station during a handover the call is dropped. When a subscriber making a call crosses the end of the 40-km highway (either end), the call will be terminated and the channel being used is released.\n",
    "\n",
    "A Fixed Channel Allocation (FCA) scheme is used. The company wants you to test at least two FCA schemes:\n",
    "\n",
    "<ol>\n",
    "  <li>No channel reservation.</li>\n",
    "  <li>9 channels are allocated to each cell for new calls and handovers and 1 channel is reserved for handovers when the other 9 channels are not available. This means a new call will not be allocated a channel if there is only one free channel left.</li>\n",
    "</ol>\n",
    "\n",
    "The company has provided the following measurements:\n",
    "\n",
    "- Call initiation times and their first base stations\n",
    "- Call durations\n",
    "- Car speeds.\n",
    "\n",
    "**Assumptions and simplifications**\n",
    "\n",
    "The traffic volumes in the two directions are the same. This means the two directions of cars travelling along the highway have equal probabilities.\n",
    "A car maintains the same speed during a call.\n",
    "The position of the car initiating a call in a cell is uniformly distributed along the section of the highway covered by the base station.\n",
    "### Task\n",
    "Analyze the measured data to find what distributions the inter-arrival times of calls, the locations where calls are generated, the call durations, and car speeds follow respectively. You also need to find the parameter values of these distributions. The measured data are provided in `input.xlsx`."
   ]
  },
  {
   "cell_type": "code",
   "execution_count": 211,
   "id": "ecb3c774",
   "metadata": {},
   "outputs": [],
   "source": [
    "import matplotlib.pyplot as plt\n",
    "from scipy.stats import expon, norm\n",
    "import numpy as np\n",
    "import pandas as pd"
   ]
  },
  {
   "cell_type": "code",
   "execution_count": 45,
   "id": "b9cc48fb",
   "metadata": {
    "scrolled": true
   },
   "outputs": [
    {
     "data": {
      "text/html": [
       "<div>\n",
       "<style scoped>\n",
       "    .dataframe tbody tr th:only-of-type {\n",
       "        vertical-align: middle;\n",
       "    }\n",
       "\n",
       "    .dataframe tbody tr th {\n",
       "        vertical-align: top;\n",
       "    }\n",
       "\n",
       "    .dataframe thead th {\n",
       "        text-align: right;\n",
       "    }\n",
       "</style>\n",
       "<table border=\"1\" class=\"dataframe\">\n",
       "  <thead>\n",
       "    <tr style=\"text-align: right;\">\n",
       "      <th></th>\n",
       "      <th>Arrival no</th>\n",
       "      <th>Arrival time (sec)</th>\n",
       "      <th>Base station</th>\n",
       "      <th>Call duration (sec)</th>\n",
       "      <th>velocity (km/h)</th>\n",
       "    </tr>\n",
       "  </thead>\n",
       "  <tbody>\n",
       "    <tr>\n",
       "      <th>0</th>\n",
       "      <td>1</td>\n",
       "      <td>0.000000</td>\n",
       "      <td>18</td>\n",
       "      <td>76.133611</td>\n",
       "      <td>125.934254</td>\n",
       "    </tr>\n",
       "    <tr>\n",
       "      <th>1</th>\n",
       "      <td>2</td>\n",
       "      <td>0.067744</td>\n",
       "      <td>7</td>\n",
       "      <td>159.056244</td>\n",
       "      <td>95.510881</td>\n",
       "    </tr>\n",
       "    <tr>\n",
       "      <th>2</th>\n",
       "      <td>3</td>\n",
       "      <td>0.559184</td>\n",
       "      <td>6</td>\n",
       "      <td>179.465053</td>\n",
       "      <td>127.757456</td>\n",
       "    </tr>\n",
       "    <tr>\n",
       "      <th>3</th>\n",
       "      <td>4</td>\n",
       "      <td>0.625319</td>\n",
       "      <td>14</td>\n",
       "      <td>163.108320</td>\n",
       "      <td>134.310552</td>\n",
       "    </tr>\n",
       "    <tr>\n",
       "      <th>4</th>\n",
       "      <td>5</td>\n",
       "      <td>1.345066</td>\n",
       "      <td>2</td>\n",
       "      <td>95.054472</td>\n",
       "      <td>112.272359</td>\n",
       "    </tr>\n",
       "  </tbody>\n",
       "</table>\n",
       "</div>"
      ],
      "text/plain": [
       "   Arrival no  Arrival time (sec)  Base station   Call duration (sec)  \\\n",
       "0           1            0.000000             18            76.133611   \n",
       "1           2            0.067744              7           159.056244   \n",
       "2           3            0.559184              6           179.465053   \n",
       "3           4            0.625319             14           163.108320   \n",
       "4           5            1.345066              2            95.054472   \n",
       "\n",
       "   velocity (km/h)  \n",
       "0       125.934254  \n",
       "1        95.510881  \n",
       "2       127.757456  \n",
       "3       134.310552  \n",
       "4       112.272359  "
      ]
     },
     "execution_count": 45,
     "metadata": {},
     "output_type": "execute_result"
    }
   ],
   "source": [
    "data = pd.read_excel('input.xlsx')\n",
    "data.head()"
   ]
  },
  {
   "cell_type": "code",
   "execution_count": 47,
   "id": "643590ba",
   "metadata": {},
   "outputs": [
    {
     "data": {
      "text/plain": [
       "(10000, 5)"
      ]
     },
     "execution_count": 47,
     "metadata": {},
     "output_type": "execute_result"
    }
   ],
   "source": [
    "data.shape"
   ]
  },
  {
   "cell_type": "markdown",
   "id": "582434b0",
   "metadata": {},
   "source": [
    "### Inter-arrival times"
   ]
  },
  {
   "cell_type": "code",
   "execution_count": 234,
   "id": "a6865a6c",
   "metadata": {},
   "outputs": [],
   "source": [
    "arrival_time = data['Arrival time (sec)']\n",
    "interarrival_time = arrival_time.diff().dropna()"
   ]
  },
  {
   "cell_type": "code",
   "execution_count": 236,
   "id": "aecea8de",
   "metadata": {
    "scrolled": true
   },
   "outputs": [
    {
     "data": {
      "image/png": "[encoded data removed]",
      "text/plain": [
       "<Figure size 432x288 with 1 Axes>"
      ]
     },
     "metadata": {
      "needs_background": "light"
     },
     "output_type": "display_data"
    }
   ],
   "source": [
    "plt.scatter([i for i in range(10000-1)],interarrival_time)\n",
    "plt.show()"
   ]
  },
  {
   "cell_type": "code",
   "execution_count": 237,
   "id": "8be9e563",
   "metadata": {
    "scrolled": true
   },
   "outputs": [
    {
     "data": {
      "text/plain": [
       "[<matplotlib.lines.Line2D at 0x1d8d4f8baf0>]"
      ]
     },
     "execution_count": 237,
     "metadata": {},
     "output_type": "execute_result"
    },
    {
     "data": {
      "image/png": "[encoded data removed]",
      "text/plain": [
       "<Figure size 432x288 with 1 Axes>"
      ]
     },
     "metadata": {
      "needs_background": "light"
     },
     "output_type": "display_data"
    }
   ],
   "source": [
    "import statsmodels.api as sm\n",
    "#import seaborn as sns\n",
    "kde = sm.nonparametric.KDEUnivariate(interarrival_time)\n",
    "kde.fit()\n",
    "plt.plot(kde.support, kde.density, label=\"KDE from samples\")\n",
    "#sns.kdeplot(interarrival_time)"
   ]
  },
  {
   "cell_type": "code",
   "execution_count": 238,
   "id": "35b2fbcb",
   "metadata": {
    "scrolled": true
   },
   "outputs": [
    {
     "data": {
      "image/png": "[encoded data removed]",
      "text/plain": [
       "<Figure size 432x288 with 1 Axes>"
      ]
     },
     "metadata": {
      "needs_background": "light"
     },
     "output_type": "display_data"
    }
   ],
   "source": [
    "import seaborn as sns\n",
    "sns.histplot(interarrival_time, label='Inter Arrival Time',kde=True,stat=\"density\",alpha=0.2)\n",
    "#sns.distplot(interarrival_time, label='Inter Arrival Time',kde=True,hist=True)\n",
    "plt.show()"
   ]
  },
  {
   "cell_type": "code",
   "execution_count": 187,
   "id": "d7fa8aa2",
   "metadata": {
    "scrolled": true
   },
   "outputs": [
    {
     "data": {
      "text/plain": [
       "count    9999.000000\n",
       "mean        1.369817\n",
       "std         1.343922\n",
       "min         0.000025\n",
       "25%         0.407874\n",
       "50%         0.961708\n",
       "75%         1.891807\n",
       "max        12.498550\n",
       "Name: Arrival time (sec), dtype: float64"
      ]
     },
     "execution_count": 187,
     "metadata": {},
     "output_type": "execute_result"
    }
   ],
   "source": [
    "interarrival_time.describe()"
   ]
  },
  {
   "cell_type": "code",
   "execution_count": 95,
   "id": "13b1035d",
   "metadata": {},
   "outputs": [
    {
     "name": "stdout",
     "output_type": "stream",
     "text": [
      "Biased std: 1.343855\n",
      "Unbiased std: 1.343922\n"
     ]
    }
   ],
   "source": [
    "print('Biased std: %.6f' % interarrival_time.std(ddof=0))\n",
    "print('Unbiased std: %.6f' % interarrival_time.std(ddof=1))"
   ]
  },
  {
   "cell_type": "code",
   "execution_count": 300,
   "id": "1cb36a11",
   "metadata": {},
   "outputs": [
    {
     "data": {
      "image/png": "[encoded data removed]",
      "text/plain": [
       "<Figure size 432x288 with 1 Axes>"
      ]
     },
     "metadata": {
      "needs_background": "light"
     },
     "output_type": "display_data"
    }
   ],
   "source": [
    "fig = plt.figure()\n",
    "ax = fig.add_subplot(111)\n",
    "#stats.probplot(interarrival_time, dist=stats.beta, sparams=(1.0075580035477385,50.91118687221094,\n",
    "#                                                            2.395382549338611e-05,70.59205633029417),plot=ax)\n",
    "stats.probplot(interarrival_time, dist=stats.norm,plot=ax)\n",
    "#stats.probplot(interarrival_time, dist=stats.expon,plot=ax)\n",
    "#stats.probplot(interarrival_time, dist=stats.gamma,sparams=(1,),plot=ax)\n",
    "plt.show()"
   ]
  },
  {
   "cell_type": "markdown",
   "id": "87012247",
   "metadata": {},
   "source": [
    "#### KS test on interarrival times"
   ]
  },
  {
   "cell_type": "code",
   "execution_count": 265,
   "id": "189c0ce8",
   "metadata": {},
   "outputs": [
    {
     "data": {
      "text/plain": [
       "KstestResult(statistic=0.010023150692294924, pvalue=0.2658106043225813)"
      ]
     },
     "execution_count": 265,
     "metadata": {},
     "output_type": "execute_result"
    }
   ],
   "source": [
    "from scipy.stats import kstest\n",
    "kstest(interarrival_time,'beta',\n",
    "       [1.0075580035477385,\n",
    "        50.91118687221094,\n",
    "        2.395382549338611e-05,\n",
    "        70.59205633029417])\n",
    "kstest(interarrival_time,'expon',\n",
    "       [0.0000,1.369817])"
   ]
  },
  {
   "cell_type": "code",
   "execution_count": 205,
   "id": "689bdc1a",
   "metadata": {
    "scrolled": false
   },
   "outputs": [
    {
     "data": {
      "text/plain": [
       "1    0.067744\n",
       "2    0.491441\n",
       "3    0.066135\n",
       "4    0.719747\n",
       "5    0.242954\n",
       "Name: Arrival time (sec), dtype: float64"
      ]
     },
     "execution_count": 205,
     "metadata": {},
     "output_type": "execute_result"
    }
   ],
   "source": [
    "interarrival_time.head()"
   ]
  },
  {
   "cell_type": "markdown",
   "id": "0f10bf5a",
   "metadata": {},
   "source": [
    "#### CS test on interarrival times\n",
    "Let's choose $k=\\sqrt{n}=100$."
   ]
  },
  {
   "cell_type": "code",
   "execution_count": 277,
   "id": "54c2d951",
   "metadata": {},
   "outputs": [],
   "source": [
    "import math\n",
    "k=100\n",
    "p_j = 1/k\n",
    "# Obtain 100 class intervals\n",
    "iat_interval = [0]\n",
    "iat_mean = interarrival_time.mean()\n",
    "\n",
    "for i in range(1, k):\n",
    "    iat_interval.append(expon.ppf(i*p_j, scale=iat_mean))\n",
    "    \n",
    "iat_interval.append(math.inf)"
   ]
  },
  {
   "cell_type": "code",
   "execution_count": 278,
   "id": "fa18e39e",
   "metadata": {},
   "outputs": [
    {
     "name": "stdout",
     "output_type": "stream",
     "text": [
      "Test Statisic: 111.64999999999999\n"
     ]
    }
   ],
   "source": [
    "# Calculate the test statistic\n",
    "n = 10000\n",
    "test_stat = 0\n",
    "for i in range(k):\n",
    "    N_j = len(interarrival_time[(iat_interval[i] <= interarrival_time) & (interarrival_time < iat_interval[i+1])])\n",
    "    test_stat += (N_j - n * p_j) ** 2 / (n * p_j)\n",
    "\n",
    "print(\"Test Statisic:\", test_stat)"
   ]
  },
  {
   "cell_type": "markdown",
   "id": "de916f77",
   "metadata": {},
   "source": [
    "#### Checking for inter-dependence"
   ]
  },
  {
   "cell_type": "code",
   "execution_count": 240,
   "id": "f774bfb1",
   "metadata": {
    "scrolled": false
   },
   "outputs": [
    {
     "data": {
      "image/png": "[encoded data removed]",
      "text/plain": [
       "<Figure size 432x288 with 1 Axes>"
      ]
     },
     "metadata": {
      "needs_background": "light"
     },
     "output_type": "display_data"
    },
    {
     "data": {
      "image/png": "[encoded data removed]",
      "text/plain": [
       "<Figure size 432x288 with 1 Axes>"
      ]
     },
     "metadata": {
      "needs_background": "light"
     },
     "output_type": "display_data"
    }
   ],
   "source": [
    "from statsmodels.graphics.tsaplots import plot_acf, plot_pacf\n",
    "plot_acf(interarrival_time); \n",
    "plot_pacf(interarrival_time);"
   ]
  },
  {
   "cell_type": "markdown",
   "id": "1b1333cf",
   "metadata": {},
   "source": [
    "### Call durations"
   ]
  },
  {
   "cell_type": "code",
   "execution_count": 302,
   "id": "7886228f",
   "metadata": {},
   "outputs": [],
   "source": [
    "call_duration = data['Call duration (sec)']"
   ]
  },
  {
   "cell_type": "markdown",
   "id": "34565a79",
   "metadata": {},
   "source": [
    "### Density plot"
   ]
  },
  {
   "cell_type": "code",
   "execution_count": 172,
   "id": "1067ff1d",
   "metadata": {},
   "outputs": [
    {
     "data": {
      "text/plain": [
       "<matplotlib.legend.Legend at 0x1d8cf6a5970>"
      ]
     },
     "execution_count": 172,
     "metadata": {},
     "output_type": "execute_result"
    },
    {
     "data": {
      "image/png": "[encoded data removed]",
      "text/plain": [
       "<Figure size 432x288 with 1 Axes>"
      ]
     },
     "metadata": {
      "needs_background": "light"
     },
     "output_type": "display_data"
    }
   ],
   "source": [
    "fig, ax = plt.subplots(1, 1)\n",
    "x = np.linspace(expon.ppf(0.01),expon.ppf(0.99), 100)\n",
    "ax.plot(x, expon.pdf(x),'r', label='expon pdf')\n",
    "r = expon.rvs(size=1000)\n",
    "ax.hist(r, density=True, alpha=0.5, bins=int(1000**0.5))\n",
    "plt.legend()"
   ]
  },
  {
   "cell_type": "markdown",
   "id": "79154a1b",
   "metadata": {},
   "source": [
    "### Quantile calculation (slides)"
   ]
  },
  {
   "cell_type": "code",
   "execution_count": 169,
   "id": "20e8f1c7",
   "metadata": {},
   "outputs": [
    {
     "name": "stdout",
     "output_type": "stream",
     "text": [
      "[99.55, 99.56, 99.62, 99.65, 99.79, 99.82, 99.83, 99.85, 99.9, 99.96, 99.98, 100.02, 100.06, 100.1, 100.17, 100.23, 100.26, 100.27, 100.33, 100.41, 100.47]\n"
     ]
    },
    {
     "data": {
      "text/plain": [
       "0    100.458\n",
       "Name: 0.99, dtype: float64"
      ]
     },
     "execution_count": 169,
     "metadata": {},
     "output_type": "execute_result"
    }
   ],
   "source": [
    "X=[99.79,100.26,100.23,99.55,99.96,99.56,100.41,100.27,99.62,99.9,100.17,\n",
    "   99.98,100.02,99.65,100.06,100.33,99.83,100.47,99.82,99.85,100.1]\n",
    "len(X)\n",
    "X.sort()\n",
    "print(X)\n",
    "X=pd.DataFrame(X)\n",
    "X.quantile(.99)"
   ]
  },
  {
   "cell_type": "code",
   "execution_count": 198,
   "id": "83529bc7",
   "metadata": {},
   "outputs": [
    {
     "data": {
      "text/plain": [
       "1    0.067744\n",
       "2    0.491441\n",
       "3    0.066135\n",
       "4    0.719747\n",
       "5    0.242954\n",
       "Name: Arrival time (sec), dtype: float64"
      ]
     },
     "execution_count": 198,
     "metadata": {},
     "output_type": "execute_result"
    }
   ],
   "source": [
    "interarrival_time = interarrival_time.dropna()\n",
    "interarrival_time.head()"
   ]
  },
  {
   "cell_type": "code",
   "execution_count": 303,
   "id": "bf7031b3",
   "metadata": {},
   "outputs": [
    {
     "name": "stdout",
     "output_type": "stream",
     "text": [
      "[distfit] >fit..\n",
      "[distfit] >transform..\n",
      "[distfit] >[norm      ] [0.00 sec] [RSS: 0.0000598] [loc=109.836 scale=99.134]\n",
      "[distfit] >[expon     ] [0.00 sec] [RSS: 0.0000000] [loc=10.004 scale=99.832]\n",
      "[distfit] >[pareto    ] [0.10 sec] [RSS: 0.0000670] [loc=-0.020 scale=10.024]\n",
      "[distfit] >[dweibull  ] [0.07 sec] [RSS: 0.0000428] [loc=82.872 scale=70.320]\n",
      "[distfit] >[t         ] [0.11 sec] [RSS: 0.0000400] [loc=82.391 scale=59.115]\n",
      "[distfit] >[genextreme] [0.43 sec] [RSS: 0.0000086] [loc=55.897 scale=46.272]\n",
      "[distfit] >[gamma     ] [0.13 sec] [RSS: 0.0001977] [loc=10.004 scale=3.378]\n",
      "[distfit] >[lognorm   ] [0.24 sec] [RSS: 0.0000033] [loc=2.749 scale=70.776]\n",
      "[distfit] >[beta      ] [0.20 sec] [RSS: 0.0000035] [loc=9.882 scale=1240.137]\n",
      "[distfit] >[uniform   ] [0.0 sec] [RSS: 0.0001686] [loc=10.004 scale=1229.832]\n",
      "[distfit] >[loggamma  ] [0.16 sec] [RSS: 0.0000612] [loc=-35213.826 scale=4643.974]\n",
      "[distfit] >Compute confidence interval [parametric]\n"
     ]
    },
    {
     "data": {
      "text/plain": [
       "{'model': {'distr': <scipy.stats._continuous_distns.expon_gen at 0x1d8c9224e50>,\n",
       "  'stats': 'RSS',\n",
       "  'params': (10.003951603252272, 99.83194913549542),\n",
       "  'name': 'expon',\n",
       "  'model': <scipy.stats._distn_infrastructure.rv_frozen at 0x1d8cf77f280>,\n",
       "  'score': 4.6144263477734405e-08,\n",
       "  'loc': 10.003951603252272,\n",
       "  'scale': 99.83194913549542,\n",
       "  'arg': (),\n",
       "  'CII_min_alpha': 15.12466115954221,\n",
       "  'CII_max_alpha': 309.0737435602563},\n",
       " 'summary':          distr     score  LLE           loc       scale  \\\n",
       " 0        expon       0.0  NaN     10.003952   99.831949   \n",
       " 1      lognorm  0.000003  NaN       2.74882    70.77627   \n",
       " 2         beta  0.000003  NaN      9.882449  1240.13692   \n",
       " 3   genextreme  0.000009  NaN     55.896548   46.272284   \n",
       " 4            t   0.00004  NaN     82.391285   59.114535   \n",
       " 5     dweibull  0.000043  NaN     82.872434   70.319517   \n",
       " 6         norm   0.00006  NaN    109.835901   99.133959   \n",
       " 7     loggamma  0.000061  NaN -35213.826448  4643.97352   \n",
       " 8       pareto  0.000067  NaN     -0.019907   10.023859   \n",
       " 9      uniform  0.000169  NaN     10.003952  1229.83224   \n",
       " 10       gamma  0.000198  NaN     10.003952    3.378471   \n",
       " \n",
       "                                        arg  \n",
       " 0                                       ()  \n",
       " 1                     (0.963552049664375,)  \n",
       " 2   (1.16132778404452, 13.010514582145031)  \n",
       " 3                   (-0.4734294804450825,)  \n",
       " 4                     (2.650235239856921,)  \n",
       " 5                    (1.0414780010909688,)  \n",
       " 6                                       ()  \n",
       " 7                    (2011.3185529286575,)  \n",
       " 8                   (0.49659919243250483,)  \n",
       " 9                                       ()  \n",
       " 10                    (0.089578823913916,)  ,\n",
       " 'histdata': (array([8.86299744e-03, 6.82206868e-03, 5.40724156e-03, 4.34205563e-03,\n",
       "         3.31752565e-03, 2.64670245e-03, 2.05312555e-03, 1.47581104e-03,\n",
       "         1.28066247e-03, 9.67611648e-04, 7.68397485e-04, 5.61052132e-04,\n",
       "         4.59412253e-04, 3.86231540e-04, 3.21182017e-04, 2.39870114e-04,\n",
       "         1.87017377e-04, 1.21967855e-04, 9.75742838e-05, 9.35086886e-05,\n",
       "         7.72463080e-05, 4.47215467e-05, 2.84591661e-05, 1.21967855e-05,\n",
       "         1.62623806e-05, 8.13119032e-06, 8.13119032e-06, 4.06559516e-06,\n",
       "         1.21967855e-05, 0.00000000e+00, 8.13119032e-06, 4.06559516e-06,\n",
       "         4.06559516e-06, 4.06559516e-06, 0.00000000e+00, 0.00000000e+00,\n",
       "         4.06559516e-06, 4.06559516e-06, 0.00000000e+00, 0.00000000e+00,\n",
       "         0.00000000e+00, 0.00000000e+00, 0.00000000e+00, 0.00000000e+00,\n",
       "         0.00000000e+00, 0.00000000e+00, 0.00000000e+00, 0.00000000e+00,\n",
       "         0.00000000e+00, 4.06559516e-06]),\n",
       "  array([  22.302274  ,   46.8989188 ,   71.4955636 ,   96.0922084 ,\n",
       "          120.6888532 ,  145.28549799,  169.88214279,  194.47878759,\n",
       "          219.07543239,  243.67207719,  268.26872199,  292.86536678,\n",
       "          317.46201158,  342.05865638,  366.65530118,  391.25194598,\n",
       "          415.84859077,  440.44523557,  465.04188037,  489.63852517,\n",
       "          514.23516997,  538.83181477,  563.42845956,  588.02510436,\n",
       "          612.62174916,  637.21839396,  661.81503876,  686.41168356,\n",
       "          711.00832835,  735.60497315,  760.20161795,  784.79826275,\n",
       "          809.39490755,  833.99155235,  858.58819714,  883.18484194,\n",
       "          907.78148674,  932.37813154,  956.97477634,  981.57142113,\n",
       "         1006.16806593, 1030.76471073, 1055.36135553, 1079.95800033,\n",
       "         1104.55464513, 1129.15128992, 1153.74793472, 1178.34457952,\n",
       "         1202.94122432, 1227.53786912])),\n",
       " 'size': 10000,\n",
       " 'alpha': 0.05,\n",
       " 'stats': 'RSS',\n",
       " 'bins': 50,\n",
       " 'bound': 'both',\n",
       " 'distr': 'popular',\n",
       " 'method': 'parametric',\n",
       " 'multtest': 'fdr_bh',\n",
       " 'n_perm': 10000,\n",
       " 'smooth': None,\n",
       " 'weighted': True,\n",
       " 'f': 1.5}"
      ]
     },
     "execution_count": 303,
     "metadata": {},
     "output_type": "execute_result"
    }
   ],
   "source": [
    "#%pip install distfit\n",
    "import numpy as np\n",
    "from distfit import distfit\n",
    "\n",
    "# Generate 10000 normal distribution samples with mean 0, std dev of 3 \n",
    "#X = np.random.normal(0, 3, 10000)\n",
    "X = call_duration\n",
    "#X = norm.rvs(0,1,10000)\n",
    "\n",
    "# Initialize distfit\n",
    "dist = distfit()\n",
    "\n",
    "# Determine best-fitting probability distribution for data\n",
    "dist.fit_transform(X)"
   ]
  },
  {
   "cell_type": "code",
   "execution_count": 208,
   "id": "7bfdc906",
   "metadata": {},
   "outputs": [
    {
     "name": "stdout",
     "output_type": "stream",
     "text": [
      "         distr     score  LLE              loc            scale  \\\n",
      "0         beta  0.002006  NaN         0.000024        70.592056   \n",
      "1        expon  0.002638  NaN         0.000025         1.369792   \n",
      "2        gamma  0.003202  NaN         0.000025         1.455615   \n",
      "3       pareto  0.008847  NaN -12416010.545494  12416010.545519   \n",
      "4      lognorm  0.031032  NaN        -0.111492         0.998083   \n",
      "5   genextreme  0.073365  NaN         0.642732         0.639606   \n",
      "6            t  0.281518  NaN         1.003759         0.811141   \n",
      "7     dweibull  0.331377  NaN         1.102466         0.977789   \n",
      "8         norm  0.417889  NaN         1.369817         1.343855   \n",
      "9     loggamma  0.426762  NaN      -538.281608        69.086739   \n",
      "10     uniform  1.121208  NaN         0.000025        12.498525   \n",
      "\n",
      "                                        arg  \n",
      "0   (1.0075580035477385, 50.91118687221094)  \n",
      "1                                        ()  \n",
      "2                     (0.9903569322506334,)  \n",
      "3                      (8062501.982621449,)  \n",
      "4                     (0.9365149622809232,)  \n",
      "5                   (-0.45282884950841873,)  \n",
      "6                     (2.7049595397378394,)  \n",
      "7                     (1.0850363209652178,)  \n",
      "8                                        ()  \n",
      "9                     (2468.6410295804862,)  \n",
      "10                                       ()  \n"
     ]
    }
   ],
   "source": [
    "print(dist.summary)"
   ]
  },
  {
   "cell_type": "code",
   "execution_count": 242,
   "id": "202bccdd",
   "metadata": {},
   "outputs": [
    {
     "name": "stdout",
     "output_type": "stream",
     "text": [
      "[distfit] >plot..\n"
     ]
    },
    {
     "data": {
      "text/plain": [
       "(<Figure size 720x576 with 1 Axes>,\n",
       " <AxesSubplot:title={'center':'\\nbeta\\na=1.00756, b=50.9112, loc=2.39538e-05, scale=70.5921'}, xlabel='Values', ylabel='Frequency'>)"
      ]
     },
     "execution_count": 242,
     "metadata": {},
     "output_type": "execute_result"
    },
    {
     "data": {
      "image/png": "[encoded data removed]",
      "text/plain": [
       "<Figure size 720x576 with 1 Axes>"
      ]
     },
     "metadata": {
      "needs_background": "light"
     },
     "output_type": "display_data"
    }
   ],
   "source": [
    "dist.plot()"
   ]
  },
  {
   "cell_type": "markdown",
   "id": "b50e78b5",
   "metadata": {},
   "source": [
    "### Resources\n",
    "- Case adopted from [https://github.com/ritikbhatia](https://github.com/ritikbhatia).\n",
    "- Best fit: [https://www.kdnuggets.com/2021/09/determine-best-fitting-data-distribution-python.html](https://www.kdnuggets.com/2021/09/determine-best-fitting-data-distribution-python.html)"
   ]
  }
 ],
 "metadata": {
  "kernelspec": {
   "display_name": "Python 3",
   "language": "python",
   "name": "python3"
  },
  "language_info": {
   "codemirror_mode": {
    "name": "ipython",
    "version": 3
   },
   "file_extension": ".py",
   "mimetype": "text/x-python",
   "name": "python",
   "nbconvert_exporter": "python",
   "pygments_lexer": "ipython3",
   "version": "3.8.8"
  }
 },
 "nbformat": 4,
 "nbformat_minor": 5
}

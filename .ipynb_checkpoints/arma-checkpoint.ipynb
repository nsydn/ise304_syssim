{
 "cells": [
  {
   "cell_type": "markdown",
   "id": "8ad1d081",
   "metadata": {},
   "source": [
    "### ARMA(p,q)"
   ]
  },
  {
   "cell_type": "code",
   "execution_count": null,
   "id": "90196796",
   "metadata": {},
   "outputs": [],
   "source": [
    "import numpy as np\n",
    "import statsmodels.api as sm\n",
    "from statsmodels.graphics.tsaplots import plot_acf, plot_pacf\n",
    "import matplotlib.pyplot as plt\n",
    "alpha = np.array([.5, .4])\n",
    "beta = np.array([0, 0])\n",
    "ar = np.r_[1, -alpha] # add zero-lag and negate\n",
    "ma = np.r_[1, beta] # add zero-lag\n",
    "y = sm.tsa.arma_generate_sample(ar, ma, 1000)\n",
    "plot_acf(y,title='Autocorrelation (ACF)')\n",
    "plot_pacf(y,title='Partial Autocorrelation (PACF)');"
   ]
  }
 ],
 "metadata": {
  "kernelspec": {
   "display_name": "Python 3",
   "language": "python",
   "name": "python3"
  },
  "language_info": {
   "codemirror_mode": {
    "name": "ipython",
    "version": 3
   },
   "file_extension": ".py",
   "mimetype": "text/x-python",
   "name": "python",
   "nbconvert_exporter": "python",
   "pygments_lexer": "ipython3",
   "version": "3.8.8"
  }
 },
 "nbformat": 4,
 "nbformat_minor": 5
}

{
 "cells": [
  {
   "cell_type": "markdown",
   "id": "24ab6529",
   "metadata": {},
   "source": [
    "## Tests for Random Numbers\n",
    "Desirable properties of random numbers:\n",
    "* Uniformity\n",
    "* Independence\n",
    "\n",
    "Tests to check these properties\n",
    "* **Frequency test:** Kolmogorov–Smirnov or Chi-square test to compare the empirical distribution to theoretical uniform distribution\n",
    "\n",
    "$$H_0:\\quad R_i \\sim \\text{Uniform}[0,1]\\\\\n",
    "H_1:\\quad R_i \\nsim \\text{Uniform}[0,1]$$\n",
    "\n",
    "* **Autocorrelation test:** compare the correlation between produced numbers to the desired correlation of $\\rho=0$\n",
    "\n",
    "$$H_0:\\quad R_i \\sim \\text{Independently}\\\\\n",
    "H_1:\\quad R_i \\nsim \\text{Independently}$$\n",
    "\n",
    "For each test, a **significance level** $\\alpha$ must be specified. Remember from your Prob & Stat course that $\\alpha$ is also called the Type I error, i.e., the probability of rejecting null hypothesis $H_0$ when it is true. Frequently $\\alpha$ is set to $0.01$ or $0.05$. "
   ]
  },
  {
   "cell_type": "code",
   "execution_count": 819,
   "id": "629d0161",
   "metadata": {},
   "outputs": [],
   "source": [
    "alpha = 0.05"
   ]
  },
  {
   "cell_type": "markdown",
   "id": "b230a2b7",
   "metadata": {},
   "source": [
    "For example, if the above test are applied to 100 sets of numbers that come out of a RNG, with an $\\alpha$ of 0.05, we cannot reasonably discard the generator if the number of rejections is close to $100\\alpha$."
   ]
  },
  {
   "cell_type": "markdown",
   "id": "ac6e7cf7",
   "metadata": {},
   "source": [
    "### Kolmogorov–Smirnov Test (for frequency)\n",
    "The KS test is based on the largest absolute deviation between the theoretical CDF of the uniform distribution $F(x)$ and empirical CDF of values generated $S_N(x)$, that is,\n",
    "\n",
    "$$D=\\max |F(x)-S_N(x)|$$\n",
    "\n",
    "where $D$ has a known sampling distribution. If calculated $D$ is less than or equal to the critical value $D_\\alpha$, then $H_0$ is not rejected.\n",
    "\n",
    "Assume we generated five numbers $0.44,0.81,0.14,0.05,0.93$. To calculate $D$, we first sort them in an increasing order $0.14,0.05,0.44,0.81,0.93$ and find the maximum deviation from uniform CDF, which is $0.26$ in this case."
   ]
  },
  {
   "cell_type": "markdown",
   "id": "ff3b00fb",
   "metadata": {},
   "source": [
    "<img src=\"kstest.png\" width=\"40%\" alt=\"Site logo\" align = \"center\" style=\"margin:0px 10px\">"
   ]
  },
  {
   "cell_type": "code",
   "execution_count": 820,
   "id": "2e108a8b",
   "metadata": {},
   "outputs": [
    {
     "data": {
      "text/plain": [
       "KstestResult(statistic=0.26, pvalue=0.81234688)"
      ]
     },
     "execution_count": 820,
     "metadata": {},
     "output_type": "execute_result"
    }
   ],
   "source": [
    "R = [0.44,0.81,0.14,0.05,0.93]\n",
    "kstest(R,'uniform')"
   ]
  },
  {
   "cell_type": "markdown",
   "id": "c206cc71",
   "metadata": {},
   "source": [
    "Let's run a single KS test on a sample of $N$ numbers drawn from a uniform distribution. "
   ]
  },
  {
   "cell_type": "code",
   "execution_count": 826,
   "id": "fd88e057",
   "metadata": {
    "scrolled": true
   },
   "outputs": [
    {
     "data": {
      "text/plain": [
       "KstestResult(statistic=0.11200459426796427, pvalue=0.1506858945503592)"
      ]
     },
     "execution_count": 826,
     "metadata": {},
     "output_type": "execute_result"
    }
   ],
   "source": [
    "import numpy as np\n",
    "from scipy.stats import kstest\n",
    "import matplotlib.pyplot as plt\n",
    "\n",
    "N = 100\n",
    "np.random.seed(123)\n",
    "R = np.random.rand(N)\n",
    "\n",
    "kstest(R,'uniform')"
   ]
  },
  {
   "cell_type": "markdown",
   "id": "328c1464",
   "metadata": {},
   "source": [
    "Let's now run a KS test on $M=100$ sets of values drawn from a uniform distribution (each sample again containing 𝑁 numbers)."
   ]
  },
  {
   "cell_type": "code",
   "execution_count": 837,
   "id": "05a16063",
   "metadata": {
    "scrolled": true
   },
   "outputs": [
    {
     "name": "stdout",
     "output_type": "stream",
     "text": [
      "Pct of cases where H0 is retained: 0.95\n"
     ]
    }
   ],
   "source": [
    "import numpy as np\n",
    "from scipy.stats import kstest\n",
    "import matplotlib.pyplot as plt\n",
    "\n",
    "def kst():\n",
    "\n",
    "    N = 100 #number of RNs\n",
    "    #np.random.seed(123)\n",
    "    R = np.random.rand(N)\n",
    "\n",
    "    return kstest(R,'uniform').pvalue\n",
    "\n",
    "M = 1000 #number of tests\n",
    "pval = []\n",
    "for j in range(M):\n",
    "    pval.append(kst())\n",
    "\n",
    "print('Pct of cases where H0 is retained: %.2f' % (sum(j>0.05 for j in pval)/M))\n",
    "#plt.plot(pval,'-x')"
   ]
  },
  {
   "cell_type": "markdown",
   "id": "02cbf214",
   "metadata": {},
   "source": [
    "So, in general, the number of cases where $H_0$ is rejected is limited to $0.05$, which is our margin for Type-I error. The RNG seems to be reasonable.\n",
    "\n",
    "Let's now apply the KS test on our numbers generated using multiplicative LCM in-class."
   ]
  },
  {
   "cell_type": "code",
   "execution_count": null,
   "id": "fe70f787",
   "metadata": {},
   "outputs": [],
   "source": [
    "# Colab users: first run this\n",
    "from google.colab import files\n",
    "files.upload()"
   ]
  },
  {
   "cell_type": "code",
   "execution_count": 841,
   "id": "a3c9e8b7",
   "metadata": {},
   "outputs": [
    {
     "data": {
      "text/plain": [
       "KstestResult(statistic=0.07964317100000001, pvalue=0.7817859116113044)"
      ]
     },
     "execution_count": 841,
     "metadata": {},
     "output_type": "execute_result"
    }
   ],
   "source": [
    "R = pd.read_csv('lcm.csv')\n",
    "#len(R)\n",
    "kstest(R.RAND,'uniform')"
   ]
  },
  {
   "cell_type": "markdown",
   "id": "33f0e316",
   "metadata": {},
   "source": [
    "### Chi-square test (for frequency)\n",
    "\n",
    "This test uses the sample statistic\n",
    "$$\\chi^2 = \\sum_{i=1}^n\\frac{(O_i-E_i)^2}{E_i}$$\n",
    "where\n",
    "* $O_i$: observed number in the $i$th class\n",
    "* $E_i$: expected number in the $i$th class\n",
    "* $n$: number of classes\n",
    "\n",
    "$\\chi^2$ has a chi-square distribution with $n-1$ degrees of freedom."
   ]
  },
  {
   "cell_type": "code",
   "execution_count": 818,
   "id": "75de438e",
   "metadata": {
    "scrolled": true
   },
   "outputs": [],
   "source": [
    "import numpy as np\n",
    "import pandas as pd\n",
    "from scipy.stats import chisquare\n",
    "C = pd.read_csv('chisq.csv')"
   ]
  },
  {
   "cell_type": "markdown",
   "id": "ec315f6c",
   "metadata": {},
   "source": [
    "### Test for auto-correlation\n",
    "\n",
    "The test is based on the autocorrelation between generated numbers. Let $\\rho_{i,\\ell}$ be the correlation between every $\\ell$ numbers ($\\ell$ is also known as *lag*) which is estimated from the sample using $\\hat{\\rho}_{i,\\ell}$. \n",
    "\n",
    "$$H_0:\\quad \\rho_{i,\\ell} = 0\\\\\n",
    "H_1:\\quad \\rho_{i,\\ell} \\neq 0$$\n",
    "\n",
    "For example, if we generate numbers $R_1,\\dots,R_{50}$, then $\\rho_{3,5}$ is the correlation between $R_3,R_8,R_{13},\\dots,R_{48}$. \n",
    "\n",
    "The test statistic below is approximately standard normal and thus can be compared to standard normal table: \n",
    "\n",
    "$$z=\\frac{\\hat{\\rho}_{i,\\ell}}{\\sigma_{\\hat{\\rho}_{i,\\ell}}}$$\n",
    "\n",
    "We can rather use the graphs for auto-correlation and partial auto-correlation functions (ACF and PACF) to make a conclusion about whether auto-correlation (dependence) exists in our sequence, which means $H_0$ would be rejected.\n",
    "\n",
    "If you see "
   ]
  },
  {
   "cell_type": "code",
   "execution_count": 849,
   "id": "2aa9e1c7",
   "metadata": {
    "scrolled": false
   },
   "outputs": [
    {
     "data": {
      "image/png": "[encoded data removed]",
      "text/plain": [
       "<Figure size 432x288 with 1 Axes>"
      ]
     },
     "metadata": {
      "needs_background": "light"
     },
     "output_type": "display_data"
    },
    {
     "data": {
      "image/png": "[encoded data removed]",
      "text/plain": [
       "<Figure size 432x288 with 1 Axes>"
      ]
     },
     "metadata": {
      "needs_background": "light"
     },
     "output_type": "display_data"
    }
   ],
   "source": [
    "from statsmodels.graphics.tsaplots import plot_acf, plot_pacf\n",
    "N = 100\n",
    "R = np.random.rand(N)\n",
    "plot_acf(R); \n",
    "plot_pacf(R);"
   ]
  },
  {
   "cell_type": "code",
   "execution_count": 852,
   "id": "662e7993",
   "metadata": {},
   "outputs": [
    {
     "data": {
      "image/png": "[encoded data removed]",
      "text/plain": [
       "<Figure size 432x288 with 1 Axes>"
      ]
     },
     "metadata": {
      "needs_background": "light"
     },
     "output_type": "display_data"
    },
    {
     "data": {
      "image/png": "[encoded data removed]",
      "text/plain": [
       "<Figure size 432x288 with 1 Axes>"
      ]
     },
     "metadata": {
      "needs_background": "light"
     },
     "output_type": "display_data"
    }
   ],
   "source": [
    "import numpy as np\n",
    "import statsmodels.api as sm\n",
    "alpha = np.array([.75, .75])\n",
    "beta = np.array([0, 0])\n",
    "ar = np.r_[1, -alpha] # add zero-lag and negate\n",
    "ma = np.r_[1] # add zero-lag\n",
    "y = sm.tsa.arma_generate_sample(ar, ma, 250)\n",
    "plot_acf(y); \n",
    "plot_pacf(y);"
   ]
  },
  {
   "cell_type": "markdown",
   "id": "3db9a71c",
   "metadata": {},
   "source": [
    "### A quick note on Python `random` and `np.random` libraries "
   ]
  },
  {
   "cell_type": "markdown",
   "id": "7dea0bd4",
   "metadata": {},
   "source": [
    "If you set a seed, then everytime the same sequence of pseudo-random numbers will be generated (try increasing the sequence length)."
   ]
  },
  {
   "cell_type": "code",
   "execution_count": 314,
   "id": "48844b9f",
   "metadata": {
    "scrolled": false
   },
   "outputs": [
    {
     "name": "stdout",
     "output_type": "stream",
     "text": [
      "[0.052363598850944326, 0.08718667752263232, 0.4072417636703983, 0.10770023493843905, 0.9011988779516946, 0.0381536661023224, 0.5362020400339269, 0.33219769850967984, 0.8520866189293687, 0.1596623967219699]\n"
     ]
    }
   ],
   "source": [
    "R = []\n",
    "random.seed(123)\n",
    "for i in range(10):\n",
    "    R.append(random.random())\n",
    "print(R)"
   ]
  },
  {
   "cell_type": "markdown",
   "id": "23574c63",
   "metadata": {},
   "source": [
    "Instead of specifying a seed, you can also get the current state `s` of the RNG for future reference."
   ]
  },
  {
   "cell_type": "code",
   "execution_count": 162,
   "id": "fdaaaec1",
   "metadata": {},
   "outputs": [],
   "source": [
    "s = random.getstate()"
   ]
  },
  {
   "cell_type": "code",
   "execution_count": 166,
   "id": "f3abdf7e",
   "metadata": {
    "scrolled": true
   },
   "outputs": [
    {
     "name": "stdout",
     "output_type": "stream",
     "text": [
      "0.3337963946289553\n",
      "0.24516335251761112\n",
      "0.0016705535792228554\n",
      "0.4362757934152184\n",
      "0.08761349975042287\n",
      "0.5975994644879905\n",
      "0.06987696145918243\n"
     ]
    }
   ],
   "source": [
    "random.setstate(s)\n",
    "for i in range(7):\n",
    "    print(random.random())"
   ]
  },
  {
   "cell_type": "markdown",
   "id": "abf4e1dc",
   "metadata": {},
   "source": [
    "A similar approach in `numpy`:"
   ]
  },
  {
   "cell_type": "code",
   "execution_count": null,
   "id": "4bf96eb0",
   "metadata": {},
   "outputs": [],
   "source": [
    "import numpy as np\n",
    "np.random.seed(1234)\n",
    "#s = np.random.get_state()\n",
    "#np.random.set_state(s)\n",
    "np.random.rand(10)"
   ]
  },
  {
   "cell_type": "markdown",
   "id": "ba27f9c2",
   "metadata": {},
   "source": [
    "## Random variate generation (Inverse transform)"
   ]
  },
  {
   "cell_type": "markdown",
   "id": "fe9341ae",
   "metadata": {},
   "source": [
    "### Exponential($\\lambda$) where $X \\geq 0$"
   ]
  },
  {
   "cell_type": "code",
   "execution_count": 873,
   "id": "77ed743c",
   "metadata": {},
   "outputs": [
    {
     "data": {
      "text/plain": [
       "KstestResult(statistic=0.014856419814211264, pvalue=0.977762041119461)"
      ]
     },
     "execution_count": 873,
     "metadata": {},
     "output_type": "execute_result"
    },
    {
     "data": {
      "image/png": "[encoded data removed]",
      "text/plain": [
       "<Figure size 432x288 with 1 Axes>"
      ]
     },
     "metadata": {
      "needs_background": "light"
     },
     "output_type": "display_data"
    }
   ],
   "source": [
    "import numpy as np\n",
    "np.random.seed(12345)\n",
    "R = np.random.rand(1000)\n",
    "\n",
    "lmbd = 2\n",
    "X = (-1/lmbd)*np.log(1-R)\n",
    "\n",
    "#plt.hist(R,20); plt.title('Uniform(0,1)')\n",
    "plt.hist(X,20); plt.title('Exponential(1/$\\lambda$)')\n",
    "kstest(R,'uniform')"
   ]
  },
  {
   "cell_type": "markdown",
   "id": "d31e2ea1",
   "metadata": {},
   "source": [
    "### Uniform($a,b$) where $X\\in[a,b]$"
   ]
  },
  {
   "cell_type": "code",
   "execution_count": 869,
   "id": "2680afc9",
   "metadata": {},
   "outputs": [
    {
     "data": {
      "text/plain": [
       "KstestResult(statistic=0.025222960578770853, pvalue=0.5395471689067735)"
      ]
     },
     "execution_count": 869,
     "metadata": {},
     "output_type": "execute_result"
    },
    {
     "data": {
      "image/png": "[encoded data removed]",
      "text/plain": [
       "<Figure size 432x288 with 1 Axes>"
      ]
     },
     "metadata": {
      "needs_background": "light"
     },
     "output_type": "display_data"
    }
   ],
   "source": [
    "import numpy as np\n",
    "np.random.seed(123)\n",
    "R = np.random.rand(1000)\n",
    "\n",
    "a,b = 5,10\n",
    "X = a + (b-a)*R\n",
    "\n",
    "#plt.hist(R,20); plt.title('Uniform(0,1)')\n",
    "plt.hist(X,20); plt.title('Uniform(a,b)')\n",
    "\n",
    "kstest(R,'uniform')"
   ]
  },
  {
   "cell_type": "markdown",
   "id": "a15ee7c0",
   "metadata": {},
   "source": [
    "### Weibull($\\alpha,\\beta$) where $X\\geq 0$"
   ]
  },
  {
   "cell_type": "code",
   "execution_count": 884,
   "id": "eb5fbe57",
   "metadata": {},
   "outputs": [
    {
     "data": {
      "text/plain": [
       "KstestResult(statistic=0.025222960578770853, pvalue=0.5395471689067735)"
      ]
     },
     "execution_count": 884,
     "metadata": {},
     "output_type": "execute_result"
    },
    {
     "data": {
      "image/png": "[encoded data removed]",
      "text/plain": [
       "<Figure size 432x288 with 1 Axes>"
      ]
     },
     "metadata": {
      "needs_background": "light"
     },
     "output_type": "display_data"
    }
   ],
   "source": [
    "import numpy as np\n",
    "np.random.seed(123)\n",
    "R = np.random.rand(1000)\n",
    "\n",
    "alpha,beta = 0.5,2\n",
    "X = (1/alpha)*(-np.log(1-R))**(1/beta)\n",
    "\n",
    "#plt.hist(R,20); plt.title('Uniform(0,1)')\n",
    "plt.hist(X,20); plt.title('Weibull(a,b)')\n",
    "\n",
    "kstest(R,'uniform')"
   ]
  }
 ],
 "metadata": {
  "kernelspec": {
   "display_name": "Python 3",
   "language": "python",
   "name": "python3"
  },
  "language_info": {
   "codemirror_mode": {
    "name": "ipython",
    "version": 3
   },
   "file_extension": ".py",
   "mimetype": "text/x-python",
   "name": "python",
   "nbconvert_exporter": "python",
   "pygments_lexer": "ipython3",
   "version": "3.8.8"
  }
 },
 "nbformat": 4,
 "nbformat_minor": 5
}

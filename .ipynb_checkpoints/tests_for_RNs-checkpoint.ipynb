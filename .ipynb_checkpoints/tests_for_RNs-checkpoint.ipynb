{
 "cells": [
  {
   "cell_type": "markdown",
   "id": "24ab6529",
   "metadata": {},
   "source": [
    "## Tests for Random Numbers\n",
    "Desirable properties of random numbers:\n",
    "* Uniformity\n",
    "* Independence\n",
    "\n",
    "Tests to check these properties\n",
    "* **Frequency test:** Kolmogorov–Smirnov or Chi-square test to compare the empirical distribution to theoretical uniform distribution\n",
    "\n",
    "$$H_0:\\quad R_i \\sim \\text{Uniform}[0,1]\\\\\n",
    "H_1:\\quad R_i \\nsim \\text{Uniform}[0,1]$$\n",
    "\n",
    "* **Autocorrelation test:** compare the correlation between produced numbers to the desired correlation of $\\rho=0$\n",
    "\n",
    "$$H_0:\\quad R_i \\sim \\text{Independently}\\\\\n",
    "H_1:\\quad R_i \\nsim \\text{Independently}$$\n",
    "\n",
    "For each test, a **significance level** $\\alpha$ must be specified. Remember from your Prob & Stat course that $\\alpha$ is also called the Type I error, i.e., the probability of rejecting null hypothesis $H_0$ when it is true. Frequently $\\alpha$ is set to $0.01$ or $0.05$. "
   ]
  },
  {
   "cell_type": "code",
   "execution_count": 1,
   "id": "629d0161",
   "metadata": {},
   "outputs": [],
   "source": [
    "alpha = 0.05"
   ]
  },
  {
   "cell_type": "markdown",
   "id": "b230a2b7",
   "metadata": {},
   "source": [
    "For example, if the above test are applied to 100 sets of numbers that come out of a RNG, with an $\\alpha$ of 0.05, we cannot reasonably discard the generator if the number of rejections is close to $100\\alpha$."
   ]
  },
  {
   "cell_type": "markdown",
   "id": "ac6e7cf7",
   "metadata": {},
   "source": [
    "### Kolmogorov–Smirnov Test\n",
    "The KS test is based on the largest absolute deviation between the theoretical CDF of the uniform distribution $F(x)$ and empirical CDF of values generated $S_N(x)$."
   ]
  },
  {
   "cell_type": "markdown",
   "id": "ff3b00fb",
   "metadata": {},
   "source": [
    "<img src=\"kstest.png\" width=\"40%\" alt=\"Site logo\" align = \"center\" style=\"margin:0px 10px\">"
   ]
  },
  {
   "cell_type": "markdown",
   "id": "4604c6be",
   "metadata": {},
   "source": [
    "Let's run a single KS test on a sample of $N$ numbers drawn from a uniform distribution. "
   ]
  },
  {
   "cell_type": "code",
   "execution_count": 432,
   "id": "fd88e057",
   "metadata": {
    "scrolled": true
   },
   "outputs": [
    {
     "name": "stdout",
     "output_type": "stream",
     "text": [
      "KstestResult(statistic=0.07169754477616708, pvalue=0.6560204071220725)\n"
     ]
    }
   ],
   "source": [
    "import random\n",
    "from scipy.stats import kstest\n",
    "import matplotlib.pyplot as plt\n",
    "\n",
    "N = 100\n",
    "R = []\n",
    "\n",
    "random.seed(123)\n",
    "for i in range(N):\n",
    "    R.append(random.random())\n",
    "\n",
    "result = kstest(R,'uniform')\n",
    "print(result)"
   ]
  },
  {
   "cell_type": "markdown",
   "id": "328c1464",
   "metadata": {},
   "source": [
    "Let's now run a KS test on $100$ sets of values drawn from a uniform distribution (each sample again containing 𝑁 numbers)."
   ]
  },
  {
   "cell_type": "code",
   "execution_count": 513,
   "id": "05a16063",
   "metadata": {},
   "outputs": [
    {
     "name": "stdout",
     "output_type": "stream",
     "text": [
      "1.0\n"
     ]
    }
   ],
   "source": [
    "import random\n",
    "from scipy.stats import kstest\n",
    "import matplotlib.pyplot as plt\n",
    "\n",
    "def kst():\n",
    "\n",
    "    N = 100 # number of samples\n",
    "    R = []\n",
    "\n",
    "    random.seed(123)\n",
    "    for i in range(N):\n",
    "        R.append(random.random())\n",
    "\n",
    "    result = kstest(R,'uniform')\n",
    "    return result.pvalue\n",
    "\n",
    "M = 100 # number of tests\n",
    "pval = []\n",
    "for j in range(M):\n",
    "    pval.append(kst())\n",
    "\n",
    "print(sum(j>0.05 for j in pval)/M)\n",
    "\n",
    "#plt.plot(pval,'-x')"
   ]
  },
  {
   "cell_type": "code",
   "execution_count": 419,
   "id": "a8a69751",
   "metadata": {},
   "outputs": [
    {
     "data": {
      "text/plain": [
       "0.5123773584916278"
      ]
     },
     "execution_count": 419,
     "metadata": {},
     "output_type": "execute_result"
    }
   ],
   "source": [
    "test()"
   ]
  },
  {
   "cell_type": "markdown",
   "id": "3db9a71c",
   "metadata": {},
   "source": [
    "### A quick note on Python `random` library "
   ]
  },
  {
   "cell_type": "markdown",
   "id": "7dea0bd4",
   "metadata": {},
   "source": [
    "If you set a seed, then everytime the same sequence of pseudo-random numbers will be generated (try increasing the sequence length)."
   ]
  },
  {
   "cell_type": "code",
   "execution_count": 314,
   "id": "48844b9f",
   "metadata": {
    "scrolled": false
   },
   "outputs": [
    {
     "name": "stdout",
     "output_type": "stream",
     "text": [
      "[0.052363598850944326, 0.08718667752263232, 0.4072417636703983, 0.10770023493843905, 0.9011988779516946, 0.0381536661023224, 0.5362020400339269, 0.33219769850967984, 0.8520866189293687, 0.1596623967219699]\n"
     ]
    }
   ],
   "source": [
    "R = []\n",
    "random.seed(123)\n",
    "for i in range(10):\n",
    "    R.append(random.random())\n",
    "print(R)"
   ]
  },
  {
   "cell_type": "markdown",
   "id": "23574c63",
   "metadata": {},
   "source": [
    "Instead of specifying a seed, you can also get the current state `s` of the RNG for future reference."
   ]
  },
  {
   "cell_type": "code",
   "execution_count": 162,
   "id": "fdaaaec1",
   "metadata": {},
   "outputs": [],
   "source": [
    "s = random.getstate()"
   ]
  },
  {
   "cell_type": "code",
   "execution_count": 166,
   "id": "f3abdf7e",
   "metadata": {},
   "outputs": [
    {
     "name": "stdout",
     "output_type": "stream",
     "text": [
      "0.3337963946289553\n",
      "0.24516335251761112\n",
      "0.0016705535792228554\n",
      "0.4362757934152184\n",
      "0.08761349975042287\n",
      "0.5975994644879905\n",
      "0.06987696145918243\n"
     ]
    }
   ],
   "source": [
    "random.setstate(s)\n",
    "for i in range(7):\n",
    "    print(random.random())"
   ]
  }
 ],
 "metadata": {
  "kernelspec": {
   "display_name": "Python 3",
   "language": "python",
   "name": "python3"
  },
  "language_info": {
   "codemirror_mode": {
    "name": "ipython",
    "version": 3
   },
   "file_extension": ".py",
   "mimetype": "text/x-python",
   "name": "python",
   "nbconvert_exporter": "python",
   "pygments_lexer": "ipython3",
   "version": "3.8.8"
  }
 },
 "nbformat": 4,
 "nbformat_minor": 5
}
